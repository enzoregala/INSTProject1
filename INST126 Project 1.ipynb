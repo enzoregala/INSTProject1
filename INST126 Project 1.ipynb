{
 "cells": [
  {
   "cell_type": "markdown",
   "metadata": {},
   "source": [
    "# This is a code for a calculator\n",
    "operation = int(input(\"Choose an operation(1-4): \\n 1. Addition \\n 2. Subtraction \\n 3. Multiplication \\n 4. Division \\n\"))\n",
    "if operation == 1:\n",
    "    print(\"Enter two numbers\")\n",
    "    x = int(input(\"Number 1:\"))\n",
    "    y = int(input(\"Number 2:\"))\n",
    "    z = x + y\n",
    "    print(\"The answer is:\" + z )\n",
    "elif operation == 2:\n",
    "    print(\"Enter two numbers\")\n",
    "    x = float(input(\"Number 1:\"))\n",
    "    y = float(input(\"Number 2:\"))\n",
    "    print(\"The answer is:\" + x - y)\n",
    "elif operation == 3:\n",
    "    print(\"Enter two numbers\")\n",
    "    x = float(input(\"Number 1:\"))\n",
    "    y = float(input(\"Number 2:\"))\n",
    "    print(\"The answer is\" + x * y)\n",
    "elif operation == 4:\n",
    "    print(\"Enter two numbers\")\n",
    "    x = float(input(\"Number 1:\"))\n",
    "    y = float(input(\"Number 2:\"))\n",
    "    print(\"The answer is\" + x / y)\n",
    "else:\n",
    "    print(\"Please enter the corresponding digit from 1 - 4\")"
   ]
  },
  {
   "cell_type": "code",
   "execution_count": 3,
   "metadata": {},
   "outputs": [
    {
     "name": "stdout",
     "output_type": "stream",
     "text": [
      "Choose an operation(1-4): \n",
      " 1. Addition \n",
      " 2. Subtraction \n",
      " 3. Multiplication \n",
      " 4. Division \n",
      "1\n",
      "Enter two numbers to add\n",
      "Number 1:12\n",
      "Number 2:12\n",
      "The answer is: 24\n"
     ]
    }
   ],
   "source": [
    "# This is a code for a calculator\n",
    "# Code takes two inputed digits and either adds, subtracts, multiplies, or divides them\n",
    "operation = int(input(\"Choose an operation(1-4): \\n 1. Addition \\n 2. Subtraction \\n 3. Multiplication \\n 4. Division \\n\"))\n",
    "if operation == 1:\n",
    "    print(\"Enter two numbers to add\")\n",
    "    x = int(input(\"Number 1:\"))\n",
    "    y = int(input(\"Number 2:\"))\n",
    "    z = x + y\n",
    "    print(\"The answer is: \" + str(z))\n",
    "elif operation == 2:\n",
    "    print(\"Enter two numbers to subtract\")\n",
    "    x = int(input(\"Number 1:\"))\n",
    "    y = int(input(\"Number 2:\"))\n",
    "    z = x - y\n",
    "    print(\"The answer is: \" + str(z))\n",
    "elif operation == 3:\n",
    "    print(\"Enter two numbers to multiply\")\n",
    "    x = int(input(\"Number 1:\"))\n",
    "    y = int(input(\"Number 2:\"))\n",
    "    z = x * y\n",
    "    print(\"The answer is: \" + str(z))\n",
    "elif operation == 4:\n",
    "    print(\"Enter two numbers to divide\")\n",
    "    x = int(input(\"Number 1:\"))\n",
    "    y = int(input(\"Number 2:\"))\n",
    "    z = x / y\n",
    "    print(\"The answer is: \" + str(z))\n",
    "else:\n",
    "    print(\"Please enter the corresponding digit from 1 - 4\")"
   ]
  },
  {
   "cell_type": "code",
   "execution_count": null,
   "metadata": {},
   "outputs": [],
   "source": []
  }
 ],
 "metadata": {
  "kernelspec": {
   "display_name": "Python 3",
   "language": "python",
   "name": "python3"
  },
  "language_info": {
   "codemirror_mode": {
    "name": "ipython",
    "version": 3
   },
   "file_extension": ".py",
   "mimetype": "text/x-python",
   "name": "python",
   "nbconvert_exporter": "python",
   "pygments_lexer": "ipython3",
   "version": "3.8.3"
  }
 },
 "nbformat": 4,
 "nbformat_minor": 4
}
